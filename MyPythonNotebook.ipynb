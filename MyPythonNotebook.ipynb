{
  "nbformat": 4,
  "nbformat_minor": 0,
  "metadata": {
    "colab": {
      "name": "MyPythonNotebook.ipynb",
      "provenance": [],
      "collapsed_sections": [],
      "machine_shape": "hm"
    },
    "kernelspec": {
      "name": "python3",
      "display_name": "Python 3"
    },
    "accelerator": "GPU",
    "widgets": {
      "application/vnd.jupyter.widget-state+json": {
        "1c5aa74618a34eabbf9b21031643390b": {
          "model_module": "@jupyter-widgets/controls",
          "model_name": "HBoxModel",
          "state": {
            "_view_name": "HBoxView",
            "_dom_classes": [],
            "_model_name": "HBoxModel",
            "_view_module": "@jupyter-widgets/controls",
            "_model_module_version": "1.5.0",
            "_view_count": null,
            "_view_module_version": "1.5.0",
            "box_style": "",
            "layout": "IPY_MODEL_d4f10fd8d2ee46798c78e28241363935",
            "_model_module": "@jupyter-widgets/controls",
            "children": [
              "IPY_MODEL_6c0ece8796f34258bbe660bc799a3297",
              "IPY_MODEL_c305c07a2cd54afda1494c3b0a5fc740"
            ]
          }
        },
        "d4f10fd8d2ee46798c78e28241363935": {
          "model_module": "@jupyter-widgets/base",
          "model_name": "LayoutModel",
          "state": {
            "_view_name": "LayoutView",
            "grid_template_rows": null,
            "right": null,
            "justify_content": null,
            "_view_module": "@jupyter-widgets/base",
            "overflow": null,
            "_model_module_version": "1.2.0",
            "_view_count": null,
            "flex_flow": null,
            "width": null,
            "min_width": null,
            "border": null,
            "align_items": null,
            "bottom": null,
            "_model_module": "@jupyter-widgets/base",
            "top": null,
            "grid_column": null,
            "overflow_y": null,
            "overflow_x": null,
            "grid_auto_flow": null,
            "grid_area": null,
            "grid_template_columns": null,
            "flex": null,
            "_model_name": "LayoutModel",
            "justify_items": null,
            "grid_row": null,
            "max_height": null,
            "align_content": null,
            "visibility": null,
            "align_self": null,
            "height": null,
            "min_height": null,
            "padding": null,
            "grid_auto_rows": null,
            "grid_gap": null,
            "max_width": null,
            "order": null,
            "_view_module_version": "1.2.0",
            "grid_template_areas": null,
            "object_position": null,
            "object_fit": null,
            "grid_auto_columns": null,
            "margin": null,
            "display": null,
            "left": null
          }
        },
        "6c0ece8796f34258bbe660bc799a3297": {
          "model_module": "@jupyter-widgets/controls",
          "model_name": "IntProgressModel",
          "state": {
            "_view_name": "ProgressView",
            "style": "IPY_MODEL_01e8b7ef3ed34a52b20cbdf94b8f10b7",
            "_dom_classes": [],
            "description": "100%",
            "_model_name": "IntProgressModel",
            "bar_style": "success",
            "max": 32342954,
            "_view_module": "@jupyter-widgets/controls",
            "_model_module_version": "1.5.0",
            "value": 32342954,
            "_view_count": null,
            "_view_module_version": "1.5.0",
            "orientation": "horizontal",
            "min": 0,
            "description_tooltip": null,
            "_model_module": "@jupyter-widgets/controls",
            "layout": "IPY_MODEL_01d3eca521dc441e8f46716a9c285e40"
          }
        },
        "c305c07a2cd54afda1494c3b0a5fc740": {
          "model_module": "@jupyter-widgets/controls",
          "model_name": "HTMLModel",
          "state": {
            "_view_name": "HTMLView",
            "style": "IPY_MODEL_06fd239fce2345b1886767a7256ff9e7",
            "_dom_classes": [],
            "description": "",
            "_model_name": "HTMLModel",
            "placeholder": "​",
            "_view_module": "@jupyter-widgets/controls",
            "_model_module_version": "1.5.0",
            "value": " 30.8M/30.8M [00:00&lt;00:00, 102MB/s]",
            "_view_count": null,
            "_view_module_version": "1.5.0",
            "description_tooltip": null,
            "_model_module": "@jupyter-widgets/controls",
            "layout": "IPY_MODEL_3cebaa9bac4f4e32bf58ca76c8300ea9"
          }
        },
        "01e8b7ef3ed34a52b20cbdf94b8f10b7": {
          "model_module": "@jupyter-widgets/controls",
          "model_name": "ProgressStyleModel",
          "state": {
            "_view_name": "StyleView",
            "_model_name": "ProgressStyleModel",
            "description_width": "initial",
            "_view_module": "@jupyter-widgets/base",
            "_model_module_version": "1.5.0",
            "_view_count": null,
            "_view_module_version": "1.2.0",
            "bar_color": null,
            "_model_module": "@jupyter-widgets/controls"
          }
        },
        "01d3eca521dc441e8f46716a9c285e40": {
          "model_module": "@jupyter-widgets/base",
          "model_name": "LayoutModel",
          "state": {
            "_view_name": "LayoutView",
            "grid_template_rows": null,
            "right": null,
            "justify_content": null,
            "_view_module": "@jupyter-widgets/base",
            "overflow": null,
            "_model_module_version": "1.2.0",
            "_view_count": null,
            "flex_flow": null,
            "width": null,
            "min_width": null,
            "border": null,
            "align_items": null,
            "bottom": null,
            "_model_module": "@jupyter-widgets/base",
            "top": null,
            "grid_column": null,
            "overflow_y": null,
            "overflow_x": null,
            "grid_auto_flow": null,
            "grid_area": null,
            "grid_template_columns": null,
            "flex": null,
            "_model_name": "LayoutModel",
            "justify_items": null,
            "grid_row": null,
            "max_height": null,
            "align_content": null,
            "visibility": null,
            "align_self": null,
            "height": null,
            "min_height": null,
            "padding": null,
            "grid_auto_rows": null,
            "grid_gap": null,
            "max_width": null,
            "order": null,
            "_view_module_version": "1.2.0",
            "grid_template_areas": null,
            "object_position": null,
            "object_fit": null,
            "grid_auto_columns": null,
            "margin": null,
            "display": null,
            "left": null
          }
        },
        "06fd239fce2345b1886767a7256ff9e7": {
          "model_module": "@jupyter-widgets/controls",
          "model_name": "DescriptionStyleModel",
          "state": {
            "_view_name": "StyleView",
            "_model_name": "DescriptionStyleModel",
            "description_width": "",
            "_view_module": "@jupyter-widgets/base",
            "_model_module_version": "1.5.0",
            "_view_count": null,
            "_view_module_version": "1.2.0",
            "_model_module": "@jupyter-widgets/controls"
          }
        },
        "3cebaa9bac4f4e32bf58ca76c8300ea9": {
          "model_module": "@jupyter-widgets/base",
          "model_name": "LayoutModel",
          "state": {
            "_view_name": "LayoutView",
            "grid_template_rows": null,
            "right": null,
            "justify_content": null,
            "_view_module": "@jupyter-widgets/base",
            "overflow": null,
            "_model_module_version": "1.2.0",
            "_view_count": null,
            "flex_flow": null,
            "width": null,
            "min_width": null,
            "border": null,
            "align_items": null,
            "bottom": null,
            "_model_module": "@jupyter-widgets/base",
            "top": null,
            "grid_column": null,
            "overflow_y": null,
            "overflow_x": null,
            "grid_auto_flow": null,
            "grid_area": null,
            "grid_template_columns": null,
            "flex": null,
            "_model_name": "LayoutModel",
            "justify_items": null,
            "grid_row": null,
            "max_height": null,
            "align_content": null,
            "visibility": null,
            "align_self": null,
            "height": null,
            "min_height": null,
            "padding": null,
            "grid_auto_rows": null,
            "grid_gap": null,
            "max_width": null,
            "order": null,
            "_view_module_version": "1.2.0",
            "grid_template_areas": null,
            "object_position": null,
            "object_fit": null,
            "grid_auto_columns": null,
            "margin": null,
            "display": null,
            "left": null
          }
        }
      }
    }
  },
  "cells": [
    {
      "cell_type": "code",
      "metadata": {
        "id": "CV0Py9LJsar8",
        "colab_type": "code",
        "outputId": "1705f677-c229-436f-ce6c-cf9c616efa24",
        "colab": {
          "base_uri": "https://localhost:8080/",
          "height": 35
        }
      },
      "source": [
        "# pwd is /content\n",
        "cd /content/drive/\"My Drive\"/deep-learning-v2-pytorch/intro-to-pytorch"
      ],
      "execution_count": 2,
      "outputs": [
        {
          "output_type": "stream",
          "text": [
            "/content/drive/My Drive/deep-learning-v2-pytorch/intro-to-pytorch\n"
          ],
          "name": "stdout"
        }
      ]
    },
    {
      "cell_type": "code",
      "metadata": {
        "id": "EYWuh8XwBdsU",
        "colab_type": "code",
        "outputId": "12beee5d-b6f6-493d-979c-bd61f4abd4c7",
        "colab": {
          "base_uri": "https://localhost:8080/",
          "height": 35
        }
      },
      "source": [
        "! du -hs Cat_Dog_data"
      ],
      "execution_count": 0,
      "outputs": [
        {
          "output_type": "stream",
          "text": [
            "379M\tCat_Dog_data\n"
          ],
          "name": "stdout"
        }
      ]
    },
    {
      "cell_type": "code",
      "metadata": {
        "id": "8OSQBoYA_g35",
        "colab_type": "code",
        "colab": {}
      },
      "source": [
        "%matplotlib inline\n",
        "%config InlineBackend.figure_format = 'retina'\n",
        "\n",
        "import matplotlib.pyplot as plt\n",
        "\n",
        "import torch\n",
        "from torch import nn\n",
        "from torch import optim\n",
        "import torch.nn.functional as F\n",
        "from torchvision import datasets, transforms, models\n",
        "\n",
        "import helper"
      ],
      "execution_count": 0,
      "outputs": []
    },
    {
      "cell_type": "code",
      "metadata": {
        "id": "mJRxRUew_9NS",
        "colab_type": "code",
        "colab": {}
      },
      "source": [
        "data_dir = 'Cat_Dog_data'\n",
        "\n",
        "# TODO: Define transforms for the training data and testing data\n",
        "train_transforms = transforms.Compose([transforms.RandomRotation(30), transforms.RandomResizedCrop(224), \n",
        "                                       transforms.RandomHorizontalFlip(),\n",
        "                                       transforms.ToTensor(),\n",
        "                                      transforms.Normalize([0.485, 0.456, 0.406], [0.229, 0.224, 0.225])])\n",
        "\n",
        "test_transforms =transforms.Compose([transforms.Resize(224), transforms.CenterCrop(224), transforms.ToTensor(),\n",
        "                                      transforms.Normalize([0.485, 0.456, 0.406], [0.229, 0.224, 0.225])])\n",
        "\n",
        "# Pass transforms in here, then run the next cell to see how the transforms look\n",
        "train_data = datasets.ImageFolder(data_dir + '/train', transform=train_transforms)\n",
        "test_data = datasets.ImageFolder(data_dir + '/test', transform=test_transforms)\n",
        "\n",
        "trainloader = torch.utils.data.DataLoader(train_data, batch_size=64, shuffle=True)\n",
        "testloader = torch.utils.data.DataLoader(test_data, batch_size=64, shuffle=True)"
      ],
      "execution_count": 0,
      "outputs": []
    },
    {
      "cell_type": "code",
      "metadata": {
        "id": "E1MgUfZa76vP",
        "colab_type": "code",
        "colab": {
          "base_uri": "https://localhost:8080/",
          "height": 106,
          "referenced_widgets": [
            "1c5aa74618a34eabbf9b21031643390b",
            "d4f10fd8d2ee46798c78e28241363935",
            "6c0ece8796f34258bbe660bc799a3297",
            "c305c07a2cd54afda1494c3b0a5fc740",
            "01e8b7ef3ed34a52b20cbdf94b8f10b7",
            "01d3eca521dc441e8f46716a9c285e40",
            "06fd239fce2345b1886767a7256ff9e7",
            "3cebaa9bac4f4e32bf58ca76c8300ea9"
          ]
        },
        "outputId": "4af9c995-5e01-4772-c4b0-aad94891b616"
      },
      "source": [
        "model = models.densenet121(pretrained = True )\n",
        "#switch of gradient\n",
        "for params in model.parameters():\n",
        "  params.requires_grad = False\n",
        "\n",
        "MyClassifier = nn.Sequential( \n",
        "    nn.Linear(1024, 256),\n",
        "    nn.ReLU(),\n",
        "    nn.Dropout(p = 0.3),\n",
        "    nn.Linear(256, 2),\n",
        "    nn.LogSoftmax(dim = 1)\n",
        ")\n",
        "#gradient will be only calculated on classifier layer\n",
        "model.classifier = MyClassifier"
      ],
      "execution_count": 8,
      "outputs": [
        {
          "output_type": "stream",
          "text": [
            "Downloading: \"https://download.pytorch.org/models/densenet121-a639ec97.pth\" to /root/.cache/torch/checkpoints/densenet121-a639ec97.pth\n"
          ],
          "name": "stderr"
        },
        {
          "output_type": "display_data",
          "data": {
            "application/vnd.jupyter.widget-view+json": {
              "model_id": "1c5aa74618a34eabbf9b21031643390b",
              "version_minor": 0,
              "version_major": 2
            },
            "text/plain": [
              "HBox(children=(IntProgress(value=0, max=32342954), HTML(value='')))"
            ]
          },
          "metadata": {
            "tags": []
          }
        },
        {
          "output_type": "stream",
          "text": [
            "\n"
          ],
          "name": "stdout"
        }
      ]
    },
    {
      "cell_type": "code",
      "metadata": {
        "id": "gd6T8gZ3-tW6",
        "colab_type": "code",
        "outputId": "4045531b-160a-465c-8e4f-9a48305984f5",
        "colab": {
          "base_uri": "https://localhost:8080/",
          "height": 201
        }
      },
      "source": [
        "model.cuda()\n",
        "\n",
        "loss_fun = nn.NLLLoss()\n",
        "optimizer = optim.SGD(model.classifier.parameters(), lr = 0.01 )\n",
        "\n",
        "epoches = 1\n",
        "running_loss = 0\n",
        "\n",
        "train_losses, test_losses = [], []\n",
        "for e in range(0, epoches):\n",
        "  steps = 0\n",
        "  for images, labels in trainloader:\n",
        "    steps = steps + 1\n",
        "    images, labels = images.to(device = 'cuda'), labels.to(device = 'cuda')\n",
        "    optimizer.zero_grad()\n",
        "    res = model(images)\n",
        "    loss = loss_fun(res, labels)\n",
        "    loss.backward()\n",
        "    optimizer.step()\n",
        "    running_loss += loss.item()\n",
        "    if steps % 5 == 0 :\n",
        "      model.eval()\n",
        "      test_loss = 0\n",
        "      accuracy = 0\n",
        "      with torch.no_grad():\n",
        "        for images, labels in testloader:\n",
        "          images, labels = images.to(device = 'cuda'), labels.to(device = 'cuda')\n",
        "          res = model(images)\n",
        "          loss = loss_fun(res, labels)\n",
        "          test_loss += loss.item()\n",
        "          # Calculate accuracy\n",
        "          ps = torch.exp(res)\n",
        "          top_p, top_class = ps.topk(1, dim=1)\n",
        "          equals = top_class == labels.view(*top_class.shape)\n",
        "          accuracy += torch.mean(equals.type(torch.FloatTensor)).item()\n",
        "      model.train()\n",
        "      print(steps,\"Train loss:\", round(running_loss/5,2), \"Test loss\", round(test_loss / len(testloader),2), \"Acc:\", round( ( accuracy / len(testloader) ) * 100,2))\n",
        "      train_losses.append(running_loss / 5)\n",
        "      test_losses.append(test_loss / len(testloader))\n",
        "      running_loss = 0\n",
        "    "
      ],
      "execution_count": 9,
      "outputs": [
        {
          "output_type": "stream",
          "text": [
            "190 Train loss: 0.22 Test loss 0.11 Acc: 97.03\n",
            "195 Train loss: 0.18 Test loss 0.11 Acc: 97.03\n",
            "200 Train loss: 0.19 Test loss 0.11 Acc: 96.91\n",
            "205 Train loss: 0.17 Test loss 0.11 Acc: 96.99\n",
            "210 Train loss: 0.19 Test loss 0.12 Acc: 96.37\n",
            "215 Train loss: 0.15 Test loss 0.11 Acc: 96.95\n",
            "220 Train loss: 0.23 Test loss 0.11 Acc: 96.45\n",
            "225 Train loss: 0.17 Test loss 0.09 Acc: 97.54\n",
            "230 Train loss: 0.17 Test loss 0.1 Acc: 97.07\n",
            "235 Train loss: 0.15 Test loss 0.1 Acc: 97.19\n"
          ],
          "name": "stdout"
        }
      ]
    },
    {
      "cell_type": "code",
      "metadata": {
        "id": "oVrznKqlkOM7",
        "colab_type": "code",
        "colab": {
          "base_uri": "https://localhost:8080/",
          "height": 267
        },
        "outputId": "e1628505-e0db-4a4e-86e1-97d2d45dfa15"
      },
      "source": [
        "import matplotlib.pyplot as plt\n",
        "plt.plot(test_losses, label=\"train_loss\")\n",
        "plt.plot(train_losses, label = \"test_loss\")\n",
        "plt.legend()\n",
        "plt.show()"
      ],
      "execution_count": 10,
      "outputs": [
        {
          "output_type": "display_data",
          "data": {
            "image/png": "[encoded data removed]",
            "text/plain": [
              "<Figure size 432x288 with 1 Axes>"
            ]
          },
          "metadata": {
            "tags": [],
            "image/png": {
              "width": 372,
              "height": 250
            },
            "needs_background": "light"
          }
        }
      ]
    },
    {
      "cell_type": "code",
      "metadata": {
        "id": "-KgVeP3hTBlw",
        "colab_type": "code",
        "colab": {}
      },
      "source": [
        "torch.save(model.state_dict(), 'cdict.pt')"
      ],
      "execution_count": 0,
      "outputs": []
    }
  ]
}